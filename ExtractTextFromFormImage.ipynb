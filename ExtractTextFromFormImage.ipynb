{
 "cells": [
  {
   "cell_type": "code",
   "execution_count": 3,
   "id": "3fa838ae-a4c0-46b4-8cdd-cb437d1ed857",
   "metadata": {},
   "outputs": [],
   "source": [
    "## Loads required packages.  Also grabs the imagefile names in the folder imageFiles and sets output path for extracted text.\n",
    "\n",
    "from unstructured.partition.pdf import partition_pdf\n",
    "import pandas as pd\n",
    "import os\n",
    "\n",
    "localFolderPathImages = './imageFiles'\n",
    "localFolderPathText   = './textFiles'\n",
    "\n",
    "files = os.listdir(localFolderPathImages)\n",
    "\n",
    "#print(files)"
   ]
  },
  {
   "cell_type": "code",
   "execution_count": 4,
   "id": "2f839014-5ea3-4b43-9861-384f42b085e3",
   "metadata": {},
   "outputs": [],
   "source": [
    "# Calls the partition_pdf function in the unstructured docker container for each image.  Outputs the string to text.\n",
    "\n",
    "for fil in files:\n",
    "    \n",
    "    elements = partition_pdf(filename = localFolderPathImages+'/'+fil,infer_table_structure=True,extract_images_in_pdf= True)\n",
    "    tempStr  = (\"\\n\\n\".join([str(el) for el in elements][:10]))\n",
    "    print(tempStr) \n",
    "    print('\\n')\n",
    "\n",
    "    textFileName = localFolderPathText + '/text_' + os.path.splitext(fil)[0] +'.txt'  # Output file Name\n",
    "    with open(textFileName, 'w', encoding='utf-8') as file:\n",
    "        file.write(tempStr)\n"
   ]
  }
 ],
 "metadata": {
  "kernelspec": {
   "display_name": "Python 3 (ipykernel)",
   "language": "python",
   "name": "python3"
  },
  "language_info": {
   "codemirror_mode": {
    "name": "ipython",
    "version": 3
   },
   "file_extension": ".py",
   "mimetype": "text/x-python",
   "name": "python",
   "nbconvert_exporter": "python",
   "pygments_lexer": "ipython3",
   "version": "3.12.1"
  }
 },
 "nbformat": 4,
 "nbformat_minor": 5
}
